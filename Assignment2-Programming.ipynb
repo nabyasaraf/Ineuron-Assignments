{
  "nbformat": 4,
  "nbformat_minor": 0,
  "metadata": {
    "colab": {
      "provenance": []
    },
    "kernelspec": {
      "name": "python3",
      "display_name": "Python 3"
    },
    "language_info": {
      "name": "python"
    }
  },
  "cells": [
    {
      "cell_type": "code",
      "execution_count": null,
      "metadata": {
        "id": "sSEe4kwkVkY_"
      },
      "outputs": [],
      "source": []
    },
    {
      "cell_type": "markdown",
      "source": [
        "1. Write a Python program to convert kilometers to miles?"
      ],
      "metadata": {
        "id": "F5flSw0OVuIo"
      }
    },
    {
      "cell_type": "code",
      "source": [
        "km=1000\n",
        "mi=0.62137119\n",
        "total_mi=km*mi\n",
        "print(f\"After converting km into miles= {total_mi} miles\")"
      ],
      "metadata": {
        "colab": {
          "base_uri": "https://localhost:8080/"
        },
        "id": "0f_lgSKsVwwX",
        "outputId": "9a437444-10e6-4bec-eb98-7987bcf7d153"
      },
      "execution_count": 3,
      "outputs": [
        {
          "output_type": "stream",
          "name": "stdout",
          "text": [
            "After converting km into miles= 621.37119 miles\n"
          ]
        }
      ]
    },
    {
      "cell_type": "markdown",
      "source": [
        "2. Write a Python program to convert Celsius to Fahrenheit?"
      ],
      "metadata": {
        "id": "RGgUeS06WZgN"
      }
    },
    {
      "cell_type": "code",
      "source": [
        "celsius=90\n",
        "fahrenheit=(celsius*1.8)+32\n",
        "print(f\"After conversion= {fahrenheit}\")"
      ],
      "metadata": {
        "colab": {
          "base_uri": "https://localhost:8080/"
        },
        "id": "Jtp-BefkWcB5",
        "outputId": "cf752b8c-6e1b-4027-b063-ac25b777a099"
      },
      "execution_count": 4,
      "outputs": [
        {
          "output_type": "stream",
          "name": "stdout",
          "text": [
            "After conversion= 194.0\n"
          ]
        }
      ]
    },
    {
      "cell_type": "markdown",
      "source": [
        "3. Write a Python program to display calendar?"
      ],
      "metadata": {
        "id": "wEl1KEh2W_no"
      }
    },
    {
      "cell_type": "code",
      "source": [
        "import calendar\n",
        "yy=2022\n",
        "mm=12\n",
        "print(calendar.month(yy,mm))"
      ],
      "metadata": {
        "colab": {
          "base_uri": "https://localhost:8080/"
        },
        "id": "OKn1vUcOXAY7",
        "outputId": "e4462158-0a9e-4ec0-f05b-42568865ae6f"
      },
      "execution_count": 5,
      "outputs": [
        {
          "output_type": "stream",
          "name": "stdout",
          "text": [
            "   December 2022\n",
            "Mo Tu We Th Fr Sa Su\n",
            "          1  2  3  4\n",
            " 5  6  7  8  9 10 11\n",
            "12 13 14 15 16 17 18\n",
            "19 20 21 22 23 24 25\n",
            "26 27 28 29 30 31\n",
            "\n"
          ]
        }
      ]
    },
    {
      "cell_type": "markdown",
      "source": [
        "4. Write a Python program to solve quadratic equation?"
      ],
      "metadata": {
        "id": "-Sd3kQyZXW-U"
      }
    },
    {
      "cell_type": "code",
      "source": [
        "a = 1.0\n",
        "b = 5.0\n",
        "c = 6.0\n",
        "import cmath\n",
        "d = (b**2) - (4*a*c)\n",
        "sol1 = (-b-cmath.sqrt(d))/(2*a)  \n",
        "sol2 = (-b+cmath.sqrt(d))/(2*a)  \n",
        "print(sol1)\n",
        "print(sol2)"
      ],
      "metadata": {
        "colab": {
          "base_uri": "https://localhost:8080/"
        },
        "id": "1k9Wwa_EXZeN",
        "outputId": "24a91b21-2103-4ac2-9408-ae5073647ee0"
      },
      "execution_count": 6,
      "outputs": [
        {
          "output_type": "stream",
          "name": "stdout",
          "text": [
            "(-3+0j)\n",
            "(-2+0j)\n"
          ]
        }
      ]
    },
    {
      "cell_type": "markdown",
      "source": [
        "5. Write a Python program to swap two variables without temp variable?"
      ],
      "metadata": {
        "id": "EVs8w8ptX65N"
      }
    },
    {
      "cell_type": "code",
      "source": [
        "a=2\n",
        "b=3\n",
        "print(f\"After swapping= a={b} b={a}\")"
      ],
      "metadata": {
        "colab": {
          "base_uri": "https://localhost:8080/"
        },
        "id": "1T_-GFPBX8Nn",
        "outputId": "f8696fc5-be9c-4830-eaff-089d5f5640c5"
      },
      "execution_count": 7,
      "outputs": [
        {
          "output_type": "stream",
          "name": "stdout",
          "text": [
            "After swapping= a=3 b=2\n"
          ]
        }
      ]
    }
  ]
}