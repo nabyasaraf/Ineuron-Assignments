{
 "cells": [
  {
   "attachments": {},
   "cell_type": "markdown",
   "metadata": {},
   "source": [
    "Write a Python program to check if the given number is a Disarium Number?"
   ]
  },
  {
   "cell_type": "code",
   "execution_count": 1,
   "metadata": {},
   "outputs": [],
   "source": [
    "def is_disarium_number(num):\n",
    "    # Convert the number to a string\n",
    "    num_str = str(num)\n",
    "    \n",
    "    # Calculate the sum of the powers of each digit\n",
    "    sum_of_powers = 0\n",
    "    for i in range(len(num_str)):\n",
    "        digit = int(num_str[i])\n",
    "        sum_of_powers += digit ** (i+1)\n",
    "    \n",
    "    # Check if the sum of powers is equal to the original number\n",
    "    return sum_of_powers == num\n"
   ]
  },
  {
   "attachments": {},
   "cell_type": "markdown",
   "metadata": {},
   "source": [
    "Write a Python program to print all disarium numbers between 1 to 100?"
   ]
  },
  {
   "cell_type": "code",
   "execution_count": 2,
   "metadata": {},
   "outputs": [
    {
     "name": "stdout",
     "output_type": "stream",
     "text": [
      "1\n",
      "2\n",
      "3\n",
      "4\n",
      "5\n",
      "6\n",
      "7\n",
      "8\n",
      "9\n",
      "89\n"
     ]
    }
   ],
   "source": [
    "def is_disarium_number(num):\n",
    "    # Convert the number to a string\n",
    "    num_str = str(num)\n",
    "    \n",
    "    # Calculate the sum of the powers of each digit\n",
    "    sum_of_powers = 0\n",
    "    for i in range(len(num_str)):\n",
    "        digit = int(num_str[i])\n",
    "        sum_of_powers += digit ** (i+1)\n",
    "    \n",
    "    # Check if the sum of powers is equal to the original number\n",
    "    return sum_of_powers == num\n",
    "\n",
    "# Iterate through the numbers from 1 to 100\n",
    "for num in range(1, 101):\n",
    "    if is_disarium_number(num):\n",
    "        print(num)"
   ]
  },
  {
   "attachments": {},
   "cell_type": "markdown",
   "metadata": {},
   "source": [
    "Write a Python program to check if the given number is Happy Number?"
   ]
  },
  {
   "cell_type": "code",
   "execution_count": 5,
   "metadata": {},
   "outputs": [],
   "source": [
    "def is_happy_number(num):\n",
    "    seen_numbers = set()\n",
    "    \n",
    "    while num != 1:\n",
    "        num = sum(int(digit) ** 2 for digit in str(num))\n",
    "        \n",
    "        if num in seen_numbers:\n",
    "            return False\n",
    "        seen_numbers.add(num)\n",
    "    \n",
    "    return True"
   ]
  },
  {
   "attachments": {},
   "cell_type": "markdown",
   "metadata": {},
   "source": [
    "Write a Python program to print all happy numbers between 1 and 100?"
   ]
  },
  {
   "cell_type": "code",
   "execution_count": 6,
   "metadata": {},
   "outputs": [
    {
     "name": "stdout",
     "output_type": "stream",
     "text": [
      "Happy Numbers between 1 and 100:\n",
      "[1, 7, 10, 13, 19, 23, 28, 31, 32, 44, 49, 68, 70, 79, 82, 86, 91, 94, 97, 100]\n"
     ]
    }
   ],
   "source": [
    "def is_happy_number(num):\n",
    "    seen_numbers = set()\n",
    "    \n",
    "    while num != 1:\n",
    "        num = sum(int(digit) ** 2 for digit in str(num))\n",
    "        \n",
    "        if num in seen_numbers:\n",
    "            return False\n",
    "        seen_numbers.add(num)\n",
    "    \n",
    "    return True\n",
    "\n",
    "\n",
    "# Find and print all happy numbers between 1 and 100\n",
    "happy_numbers = []\n",
    "for num in range(1, 101):\n",
    "    if is_happy_number(num):\n",
    "        happy_numbers.append(num)\n",
    "\n",
    "print(\"Happy Numbers between 1 and 100:\")\n",
    "print(happy_numbers)"
   ]
  },
  {
   "attachments": {},
   "cell_type": "markdown",
   "metadata": {},
   "source": [
    "Write a Python program to determine whether the given number is a Harshad Number?"
   ]
  },
  {
   "cell_type": "code",
   "execution_count": 7,
   "metadata": {},
   "outputs": [],
   "source": [
    "def is_harshad_number(num):\n",
    "    # Calculate the sum of digits\n",
    "    sum_of_digits = sum(int(digit) for digit in str(num))\n",
    "    \n",
    "    # Check if the number is divisible by the sum of its digits\n",
    "    return num % sum_of_digits == 0"
   ]
  },
  {
   "attachments": {},
   "cell_type": "markdown",
   "metadata": {},
   "source": [
    "Write a Python program to print all pronic numbers between 1 and 100?"
   ]
  },
  {
   "cell_type": "code",
   "execution_count": 8,
   "metadata": {},
   "outputs": [
    {
     "name": "stdout",
     "output_type": "stream",
     "text": [
      "2\n",
      "6\n",
      "12\n",
      "20\n",
      "30\n",
      "42\n",
      "56\n",
      "72\n",
      "90\n"
     ]
    }
   ],
   "source": [
    "def is_pronic_number(num):\n",
    "    # Find the square root of the number\n",
    "    sqrt = int(num ** 0.5)\n",
    "    \n",
    "    # Check if the product of two consecutive integers is equal to the number\n",
    "    return sqrt * (sqrt + 1) == num\n",
    "\n",
    "\n",
    "# Print all pronic numbers between 1 and 100\n",
    "for number in range(1, 101):\n",
    "    if is_pronic_number(number):\n",
    "        print(number)"
   ]
  }
 ],
 "metadata": {
  "kernelspec": {
   "display_name": "Python 3",
   "language": "python",
   "name": "python3"
  },
  "language_info": {
   "codemirror_mode": {
    "name": "ipython",
    "version": 3
   },
   "file_extension": ".py",
   "mimetype": "text/x-python",
   "name": "python",
   "nbconvert_exporter": "python",
   "pygments_lexer": "ipython3",
   "version": "3.11.3"
  },
  "orig_nbformat": 4
 },
 "nbformat": 4,
 "nbformat_minor": 2
}
