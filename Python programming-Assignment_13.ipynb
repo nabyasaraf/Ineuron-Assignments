{
 "cells": [
  {
   "attachments": {},
   "cell_type": "markdown",
   "metadata": {},
   "source": [
    "Write a program that calculates and prints the value according to the given formula:\n",
    "Q = Square root of [(2 * C * D)/H]\n",
    "Following are the fixed values of C and H:\n",
    "C is 50. H is 30.\n",
    "D is the variable whose values should be input to your program in a comma-separated\n",
    "sequence.\n",
    "Example\n",
    "Let us assume the following comma separated input sequence is given to the program:\n",
    "100,150,180\n",
    "The output of the program should be:\n",
    "18,22,24"
   ]
  },
  {
   "cell_type": "code",
   "execution_count": 6,
   "metadata": {},
   "outputs": [
    {
     "name": "stdout",
     "output_type": "stream",
     "text": [
      "The output of the program is: 3\n"
     ]
    }
   ],
   "source": [
    "import math\n",
    "\n",
    "# Fixed values of C and H\n",
    "C = 50\n",
    "H = 30\n",
    "\n",
    "# Input sequence of D values\n",
    "input_sequence = input(\"Enter comma-separated sequence of D values: \")\n",
    "values = input_sequence.split(\",\")\n",
    "\n",
    "# Calculate and print the values\n",
    "results = []\n",
    "for value in values:\n",
    "    if value.strip():  # Skip empty values\n",
    "        D = int(value)\n",
    "        Q = math.sqrt((2 * C * D) / H)\n",
    "        results.append(str(round(Q)))\n",
    "\n",
    "output = \",\".join(results)\n",
    "print(\"The output of the program is:\", output)\n"
   ]
  },
  {
   "attachments": {},
   "cell_type": "markdown",
   "metadata": {},
   "source": [
    "Write a program which takes 2 digits, X,Y as input and generates a 2-dimensional array. The\n",
    "element value in the i-th row and j-th column of the array should be i*j.\n",
    "Note: i=0,1.., X-1; j=0,1,¡Y-1.\n",
    "Example\n",
    "Suppose the following inputs are given to the program:\n",
    "3,5\n",
    "Then, the output of the program should be:\n",
    "[[0, 0, 0, 0, 0], [0, 1, 2, 3, 4], [0, 2, 4, 6, 8]]"
   ]
  },
  {
   "cell_type": "code",
   "execution_count": 7,
   "metadata": {},
   "outputs": [
    {
     "name": "stdout",
     "output_type": "stream",
     "text": [
      "[[0, 0]]\n"
     ]
    }
   ],
   "source": [
    "# Get inputs for the dimensions of the array\n",
    "X, Y = map(int, input(\"Enter two digits (X,Y): \").split(\",\"))\n",
    "\n",
    "# Create the 2-dimensional array\n",
    "array = [[i*j for j in range(Y)] for i in range(X)]\n",
    "\n",
    "# Print the array\n",
    "print(array)\n"
   ]
  },
  {
   "attachments": {},
   "cell_type": "markdown",
   "metadata": {},
   "source": [
    "Write a program that accepts a comma separated sequence of words as input and prints the\n",
    "words in a comma-separated sequence after sorting them alphabetically.\n",
    "Suppose the following input is supplied to the program:\n",
    "without,hello,bag,world\n",
    "Then, the output should be:\n",
    "bag,hello,without,world"
   ]
  },
  {
   "cell_type": "code",
   "execution_count": 10,
   "metadata": {},
   "outputs": [
    {
     "name": "stdout",
     "output_type": "stream",
     "text": [
      "word\n"
     ]
    }
   ],
   "source": [
    "# Get input sequence of words\n",
    "sequence = input(\"Enter a comma-separated sequence of words: \")\n",
    "\n",
    "# Split the sequence into a list of words\n",
    "words = sequence.split(\",\")\n",
    "\n",
    "# Sort the words alphabetically\n",
    "sorted_words = sorted(words)\n",
    "\n",
    "# Join the sorted words back into a comma-separated sequence\n",
    "result = \",\".join(sorted_words)\n",
    "\n",
    "# Print the sorted sequence\n",
    "print(result)\n"
   ]
  },
  {
   "attachments": {},
   "cell_type": "markdown",
   "metadata": {},
   "source": [
    "Write a program that accepts a sequence of whitespace separated words as input and prints\n",
    "the words after removing all duplicate words and sorting them alphanumerically.\n",
    "Suppose the following input is supplied to the program:\n",
    "hello world and practice makes perfect and hello world again\n",
    "Then, the output should be:\n",
    "again and hello makes perfect practice world"
   ]
  },
  {
   "cell_type": "code",
   "execution_count": 11,
   "metadata": {},
   "outputs": [
    {
     "name": "stdout",
     "output_type": "stream",
     "text": [
      "word\n"
     ]
    }
   ],
   "source": [
    "# Get input sequence of words\n",
    "sequence = input(\"Enter a whitespace-separated sequence of words: \")\n",
    "\n",
    "# Split the sequence into a list of words\n",
    "words = sequence.split()\n",
    "\n",
    "# Remove duplicate words using set\n",
    "unique_words = set(words)\n",
    "\n",
    "# Sort the unique words alphanumerically\n",
    "sorted_words = sorted(unique_words)\n",
    "\n",
    "# Join the sorted words back into a whitespace-separated sequence\n",
    "result = \" \".join(sorted_words)\n",
    "\n",
    "# Print the result\n",
    "print(result)\n"
   ]
  },
  {
   "attachments": {},
   "cell_type": "markdown",
   "metadata": {},
   "source": [
    "Write a program that accepts a sentence and calculate the number of letters and digits.\n",
    "Suppose the following input is supplied to the program:\n",
    "hello world! 123\n",
    "Then, the output should be:\n",
    "LETTERS 10\n",
    "\n",
    "DIGITS 3"
   ]
  },
  {
   "cell_type": "code",
   "execution_count": 12,
   "metadata": {},
   "outputs": [
    {
     "name": "stdout",
     "output_type": "stream",
     "text": [
      "LETTERS 4\n",
      "DIGITS 0\n"
     ]
    }
   ],
   "source": [
    "# Get input sentence\n",
    "sentence = input(\"Enter a sentence: \")\n",
    "\n",
    "# Initialize counters\n",
    "letter_count = 0\n",
    "digit_count = 0\n",
    "\n",
    "# Iterate over each character in the sentence\n",
    "for char in sentence:\n",
    "    # Check if the character is a letter\n",
    "    if char.isalpha():\n",
    "        letter_count += 1\n",
    "    # Check if the character is a digit\n",
    "    elif char.isdigit():\n",
    "        digit_count += 1\n",
    "\n",
    "# Print the results\n",
    "print(\"LETTERS\", letter_count)\n",
    "print(\"DIGITS\", digit_count)\n"
   ]
  },
  {
   "attachments": {},
   "cell_type": "markdown",
   "metadata": {},
   "source": [
    "A website requires the users to input username and password to register. Write a program to\n",
    "check the validity of password input by users.\n",
    "Following are the criteria for checking the password:\n",
    "1. At least 1 letter between [a-z]\n",
    "2. At least 1 number between [0-9]\n",
    "1. At least 1 letter between [A-Z]\n",
    "3. At least 1 character from [$#@]\n",
    "4. Minimum length of transaction password: 6\n",
    "5. Maximum length of transaction password: 12\n",
    "Your program should accept a sequence of comma separated passwords and will check them\n",
    "according to the above criteria. Passwords that match the criteria are to be printed, each\n",
    "separated by a comma.\n",
    "Example\n",
    "If the following passwords are given as input to the program:\n",
    "ABd1234@1,a F1#,2w3E*,2We3345\n",
    "Then, the output of the program should be:\n",
    "ABd1234@1"
   ]
  },
  {
   "cell_type": "code",
   "execution_count": 13,
   "metadata": {},
   "outputs": [
    {
     "name": "stdout",
     "output_type": "stream",
     "text": [
      "\n"
     ]
    }
   ],
   "source": [
    "import re\n",
    "\n",
    "# Get input passwords\n",
    "passwords = input(\"Enter comma-separated passwords: \")\n",
    "\n",
    "# Split the passwords into a list\n",
    "password_list = passwords.split(',')\n",
    "\n",
    "# Initialize a list to store valid passwords\n",
    "valid_passwords = []\n",
    "\n",
    "# Define the password criteria pattern\n",
    "pattern = r\"^(?=.*[a-z])(?=.*[A-Z])(?=.*\\d)(?=.*[$#@])[A-Za-z\\d$#@]{6,12}$\"\n",
    "\n",
    "# Check each password against the criteria\n",
    "for password in password_list:\n",
    "    # Use regular expression matching to check the password against the pattern\n",
    "    if re.match(pattern, password):\n",
    "        valid_passwords.append(password)\n",
    "\n",
    "# Print the valid passwords\n",
    "print(','.join(valid_passwords))\n"
   ]
  }
 ],
 "metadata": {
  "kernelspec": {
   "display_name": "Python 3",
   "language": "python",
   "name": "python3"
  },
  "language_info": {
   "codemirror_mode": {
    "name": "ipython",
    "version": 3
   },
   "file_extension": ".py",
   "mimetype": "text/x-python",
   "name": "python",
   "nbconvert_exporter": "python",
   "pygments_lexer": "ipython3",
   "version": "3.11.3"
  },
  "orig_nbformat": 4
 },
 "nbformat": 4,
 "nbformat_minor": 2
}
