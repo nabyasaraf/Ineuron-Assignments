{
 "cells": [
  {
   "attachments": {},
   "cell_type": "markdown",
   "metadata": {},
   "source": [
    "1. What is the result of the code, and explain?\n",
    "\n",
    ">>>X = 'iNeuron'\n",
    ">>>def func():\n",
    "print(X)\n",
    "\n",
    ">>>func()"
   ]
  },
  {
   "attachments": {},
   "cell_type": "markdown",
   "metadata": {},
   "source": [
    "Ans:The code will raise an IndentationError because the print(X) statement inside the func() function is not properly indented. "
   ]
  },
  {
   "attachments": {},
   "cell_type": "markdown",
   "metadata": {},
   "source": [
    "2. What is the result of the code, and explain?\n",
    "\n",
    ">>>X = 'iNeuron'\n",
    ">>>def func():\n",
    "X = 'NI!'\n",
    "\n",
    ">>>func()\n",
    ">>>print(X)"
   ]
  },
  {
   "attachments": {},
   "cell_type": "markdown",
   "metadata": {},
   "source": [
    "Output:iNeuron\n",
    "Explanation:\n",
    "\n",
    "In the given code, there are two occurrences of the variable X. The first X = 'iNeuron' is defined in the global scope, and the second X = 'NI!' is defined within the func() function.\n",
    "\n",
    "When the func() function is called using func(), it assigns the value 'NI!' to a local variable X within the function scope. This means that the local variable X inside the function is separate and independent from the global variable X.\n",
    "\n",
    "After the function call, when print(X) is executed outside the function, it refers to the global variable X, which retains its original value of 'iNeuron'. Therefore, it prints 'iNeuron' as the output.\n",
    "\n",
    "The local variable X defined within the func() function does not affect the value of the global variable X outside the function."
   ]
  },
  {
   "attachments": {},
   "cell_type": "markdown",
   "metadata": {},
   "source": [
    "3. What does this code print, and why?\n",
    "\n",
    ">>>X = 'iNeuron'\n",
    ">>>def func():\n",
    "X = 'NI'\n",
    "print(X)\n",
    "\n",
    ">>>func()\n",
    ">>>print(X)"
   ]
  },
  {
   "attachments": {},
   "cell_type": "markdown",
   "metadata": {},
   "source": [
    "Output-NI\n",
    "iNeuron\n",
    "Explanation:\n",
    "\n",
    "In this code, there are two occurrences of the variable X. The first X = 'iNeuron' is defined in the global scope, and the second X = 'NI' is defined within the func() function.\n",
    "\n",
    "When the func() function is called using func(), it assigns the value 'NI' to a local variable X within the function scope. This means that the local variable X inside the function is separate and independent from the global variable X.\n",
    "\n",
    "Inside the function, when print(X) is executed, it refers to the local variable X, which contains the value 'NI'. Therefore, it prints 'NI' as the output.\n",
    "\n",
    "After the function call, when print(X) is executed outside the function, it refers to the global variable X, which retains its original value of 'iNeuron'. Therefore, it prints 'iNeuron' as the output.\n",
    "\n",
    "The local variable X defined within the func() function does not affect the value of the global variable X outside the function."
   ]
  },
  {
   "attachments": {},
   "cell_type": "markdown",
   "metadata": {},
   "source": [
    "4. What output does this code produce? Why?\n",
    "\n",
    ">>>X = 'iNeuron'\n",
    ">>>def func():\n",
    "global X\n",
    "X = 'NI'\n",
    "\n",
    ">>> func()\n",
    ">>> print(X)"
   ]
  },
  {
   "attachments": {},
   "cell_type": "markdown",
   "metadata": {},
   "source": [
    "output-NI\n",
    "In this code, the func() function uses the global keyword to declare that the variable X being referenced inside the function should refer to the global variable X rather than creating a new local variable.\n",
    "\n",
    "Inside the func() function, when X = 'NI' is assigned, it modifies the value of the global variable X to 'NI'. Therefore, after calling the func() function, the value of the global variable X is updated to 'NI'.\n",
    "\n",
    "When print(X) is executed outside the function, it refers to the modified global variable X, which now contains the value 'NI'. Hence, it prints 'NI' as the output.\n",
    "\n",
    "The usage of the global keyword allows the function to access and modify the global variable X within its scope."
   ]
  },
  {
   "attachments": {},
   "cell_type": "markdown",
   "metadata": {},
   "source": [
    "5. What about this code—what’s the output, and why?\n",
    "\n",
    ">>> X = 'iNeuron'\n",
    ">>> def func():\n",
    "X = 'NI'\n",
    "def nested():\n",
    "print(X)\n",
    "nested()\n",
    "\n",
    ">>> func()\n",
    ">>> X"
   ]
  },
  {
   "attachments": {},
   "cell_type": "markdown",
   "metadata": {},
   "source": [
    "Output-NI\n",
    "'iNeuron'\n",
    "\n",
    "Explanation:\n",
    "\n",
    "In this code, there are two functions: func() and nested(). The nested() function is defined inside the func() function.\n",
    "\n",
    "When func() is called, it assigns the value 'NI' to the local variable X within its scope. Then, it calls the nested() function.\n",
    "\n",
    "Inside the nested() function, when print(X) is executed, it refers to the variable X in its immediate enclosing scope, which is the func() function. Since there is no X variable defined locally in the nested() function, it uses the value of X from the func() function's scope. Hence, it prints 'NI' as the output.\n",
    "\n",
    "After the func() function and its nested function are executed, X outside the functions still refers to the global variable X, which is assigned the value 'iNeuron'. Therefore, when print(X) is called outside the functions, it prints 'iNeuron' as the output."
   ]
  },
  {
   "attachments": {},
   "cell_type": "markdown",
   "metadata": {},
   "source": [
    "6. How about this code: what is its output in Python 3, and explain?\n",
    "\n",
    ">>> def func():\n",
    "X = 'NI'\n",
    "def nested():\n",
    "nonlocal X\n",
    "X = 'Spam'\n",
    "nested()\n",
    "print(X)\n",
    "\n",
    ">>> func()"
   ]
  },
  {
   "attachments": {},
   "cell_type": "markdown",
   "metadata": {},
   "source": [
    "In Python 3, the code will produce an error because the nonlocal keyword cannot be used with variables that are not defined in an enclosing scope. The code provided tries to use nonlocal with the variable X inside the nested() function, but X is not defined in any enclosing scope."
   ]
  },
  {
   "cell_type": "code",
   "execution_count": null,
   "metadata": {},
   "outputs": [],
   "source": []
  }
 ],
 "metadata": {
  "language_info": {
   "name": "python"
  },
  "orig_nbformat": 4
 },
 "nbformat": 4,
 "nbformat_minor": 2
}
