{
  "nbformat": 4,
  "nbformat_minor": 0,
  "metadata": {
    "colab": {
      "provenance": []
    },
    "kernelspec": {
      "name": "python3",
      "display_name": "Python 3"
    },
    "language_info": {
      "name": "python"
    }
  },
  "cells": [
    {
      "cell_type": "markdown",
      "source": [
        "1. Write a Python Program to Find the Factorial of a Number?"
      ],
      "metadata": {
        "id": "h5uMhwM9xbud"
      }
    },
    {
      "cell_type": "code",
      "source": [
        "a=6\n",
        "factorial=1\n",
        "for i in range(1,a+1):\n",
        "  factorial=factorial*i\n",
        "print(factorial)"
      ],
      "metadata": {
        "colab": {
          "base_uri": "https://localhost:8080/"
        },
        "id": "fBkgqFuuyaoQ",
        "outputId": "8b252981-d304-46f5-d76b-2585ca66883d"
      },
      "execution_count": null,
      "outputs": [
        {
          "output_type": "stream",
          "name": "stdout",
          "text": [
            "720\n"
          ]
        }
      ]
    },
    {
      "cell_type": "markdown",
      "source": [
        "2. Write a Python Program to Display the multiplication Table?"
      ],
      "metadata": {
        "id": "vnREaay72xJx"
      }
    },
    {
      "cell_type": "code",
      "source": [
        "table=4\n",
        "sum=0\n",
        "for i in range(1,11):\n",
        "  product=table*i\n",
        "  sum=0+i\n",
        "  print(f\"4x{sum}={product}\")"
      ],
      "metadata": {
        "colab": {
          "base_uri": "https://localhost:8080/"
        },
        "id": "vgSIJKtc2yHQ",
        "outputId": "3cc426a8-819f-4522-8c0d-3500522d8028"
      },
      "execution_count": null,
      "outputs": [
        {
          "output_type": "stream",
          "name": "stdout",
          "text": [
            "4x1=4\n",
            "4x2=8\n",
            "4x3=12\n",
            "4x4=16\n",
            "4x5=20\n",
            "4x6=24\n",
            "4x7=28\n",
            "4x8=32\n",
            "4x9=36\n",
            "4x10=40\n"
          ]
        }
      ]
    },
    {
      "cell_type": "markdown",
      "source": [
        "3. Write a Python Program to Print the Fibonacci sequence?"
      ],
      "metadata": {
        "id": "A0JMz-2-UgQx"
      }
    },
    {
      "cell_type": "code",
      "source": [
        "a,b=0,1\n",
        "n=int(input(\"create a series of: \"))\n",
        "for i in range(n):\n",
        "  sum=a+b\n",
        "  print(a)\n",
        "  a=b\n",
        "  b=sum\n",
        "  "
      ],
      "metadata": {
        "id": "57WQEKDWiOWi",
        "colab": {
          "base_uri": "https://localhost:8080/"
        },
        "outputId": "521451e2-b634-4268-8c55-197e26a1d934"
      },
      "execution_count": null,
      "outputs": [
        {
          "output_type": "stream",
          "name": "stdout",
          "text": [
            "create a series of: 7\n",
            "0\n",
            "1\n",
            "1\n",
            "2\n",
            "3\n",
            "5\n",
            "8\n"
          ]
        }
      ]
    },
    {
      "cell_type": "markdown",
      "source": [
        "4. Write a Python Program to Check Armstrong Number?"
      ],
      "metadata": {
        "id": "NhBufw2vjGaZ"
      }
    },
    {
      "cell_type": "code",
      "source": [
        "num = 1634\n",
        "sum = 0\n",
        "temp = num\n",
        "while temp > 0:\n",
        "   digit = temp % 10\n",
        "   sum += digit **3\n",
        "   temp=temp// 10\n",
        "if num == sum:\n",
        "   print(num,\"is an Armstrong number\")\n",
        "else:\n",
        "   print(num,\"is not an Armstrong number\")\n",
        "   \n"
      ],
      "metadata": {
        "colab": {
          "base_uri": "https://localhost:8080/"
        },
        "id": "UE8xVngTjHN6",
        "outputId": "5103f8eb-bb27-4d3e-8f52-df6f08a2138a"
      },
      "execution_count": null,
      "outputs": [
        {
          "output_type": "stream",
          "name": "stdout",
          "text": [
            "1634 is not an Armstrong number\n"
          ]
        }
      ]
    },
    {
      "cell_type": "markdown",
      "source": [
        "5. Write a Python Program to Find Armstrong Number in an Interval?"
      ],
      "metadata": {
        "id": "TEC4GtKWHU9s"
      }
    },
    {
      "cell_type": "code",
      "source": [
        "lower = 100\n",
        "upper = 2000\n",
        "\n",
        "for num in range(lower, upper + 1):\n",
        "   order = len(str(num))\n",
        "   sum = 0\n",
        "\n",
        "   temp = num\n",
        "   while temp > 0:\n",
        "       digit = temp % 10\n",
        "       sum += digit ** order\n",
        "       temp //= 10\n",
        "\n",
        "   if num == sum:\n",
        "       print(num)\n",
        "\n",
        "\n",
        "   \n"
      ],
      "metadata": {
        "colab": {
          "base_uri": "https://localhost:8080/"
        },
        "id": "8Zil6PmuHVtV",
        "outputId": "d7ea7d96-5f71-4556-d662-39af290a72f5"
      },
      "execution_count": 8,
      "outputs": [
        {
          "output_type": "stream",
          "name": "stdout",
          "text": [
            "153\n",
            "370\n",
            "371\n",
            "407\n",
            "1634\n"
          ]
        }
      ]
    },
    {
      "cell_type": "markdown",
      "source": [
        "6. Write a Python Program to Find the Sum of Natural Numbers?"
      ],
      "metadata": {
        "id": "kwzgD6-9JbGY"
      }
    },
    {
      "cell_type": "code",
      "source": [
        "a=5\n",
        "sum=0\n",
        "for i in range(a+1):\n",
        "  sum=sum+i\n",
        "print(sum)"
      ],
      "metadata": {
        "colab": {
          "base_uri": "https://localhost:8080/"
        },
        "id": "2j24yDHZJbxW",
        "outputId": "3701f320-60e9-4b69-aea6-4a39ad844f64"
      },
      "execution_count": 7,
      "outputs": [
        {
          "output_type": "stream",
          "name": "stdout",
          "text": [
            "15\n"
          ]
        }
      ]
    }
  ]
}